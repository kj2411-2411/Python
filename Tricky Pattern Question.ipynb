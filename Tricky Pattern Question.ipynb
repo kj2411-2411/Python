{
 "cells": [
  {
   "cell_type": "code",
   "execution_count": 1,
   "metadata": {},
   "outputs": [],
   "source": [
    "# Print the pattern given below\n",
    "# Pattern for N = 5\n",
    "# 1 \n",
    "# 3 2 \n",
    "# 4 5 6 \n",
    "# 10 9 8 7 \n",
    "# 11 12 13 14 15"
   ]
  },
  {
   "cell_type": "code",
   "execution_count": 50,
   "metadata": {},
   "outputs": [
    {
     "name": "stdout",
     "output_type": "stream",
     "text": [
      "5\n",
      "1 \n",
      "3 2 \n",
      "4 5 6 \n",
      "10 9 8 7 \n",
      "11 12 13 14 15 \n"
     ]
    }
   ],
   "source": [
    "def printPattern(n): \n",
    "\t\n",
    "\tvar = 0\n",
    "\tvar = 1\n",
    "\t\n",
    "\tfor i in range(1, n + 1): \n",
    "\n",
    "\t\t# for odd rows \n",
    "\t\tif(i % 2 != 0): \n",
    "\t\t\t\n",
    "\t\t\t# calculate starting value \n",
    "\t\t\tvar = var + i - 1\n",
    "\t\t\tfor j in range(1, i + 1): \n",
    "\t\t\t\tif(j == 1): \n",
    "\t\t\t\t\tprint(var, end = \" \") \n",
    "\t\t\t\telse: \n",
    "\t\t\t\t\tprint(var, end = \" \") \t\n",
    "\t\t\t\tvar += 1\n",
    "\t\t\t\n",
    "\t\t\n",
    "\t\telse: # for even rows \n",
    "\t\t\t\t\n",
    "\t\t\tvar1 = var + i -1 # calculate starting value \n",
    "\t\t\tfor j in range(1, i + 1): \n",
    "\t\t\t\tif(j == 1): \n",
    "\t\t\t\t\tprint(var1, end = \" \") \n",
    "\t\t\t\t\n",
    "\t\t\t\telse: \n",
    "\t\t\t\t\tprint(var1, end = \" \") \n",
    "\t\t\t\tvar1 -= 1\n",
    "\t\tprint() \t\n",
    "n=int(input())\n",
    "\n",
    "printPattern(n)"
   ]
  },
  {
   "cell_type": "code",
   "execution_count": null,
   "metadata": {},
   "outputs": [],
   "source": []
  }
 ],
 "metadata": {
  "kernelspec": {
   "display_name": "Python 3",
   "language": "python",
   "name": "python3"
  },
  "language_info": {
   "codemirror_mode": {
    "name": "ipython",
    "version": 3
   },
   "file_extension": ".py",
   "mimetype": "text/x-python",
   "name": "python",
   "nbconvert_exporter": "python",
   "pygments_lexer": "ipython3",
   "version": "3.8.5"
  }
 },
 "nbformat": 4,
 "nbformat_minor": 4
}
