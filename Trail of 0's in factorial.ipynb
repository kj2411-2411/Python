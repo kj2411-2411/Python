{
 "cells": [
  {
   "cell_type": "markdown",
   "metadata": {},
   "source": [
    "### Find and return number of trailing 0s in n factorial without calculating n factorial. Approach 1"
   ]
  },
  {
   "cell_type": "code",
   "execution_count": 35,
   "metadata": {},
   "outputs": [
    {
     "name": "stdout",
     "output_type": "stream",
     "text": [
      "50\n",
      "12\n"
     ]
    }
   ],
   "source": [
    "N = int(input())\n",
    "count = 0\n",
    "count1 = 0\n",
    "\n",
    "def trailingzeros(N):\n",
    "    for i in range(N+1):\n",
    "        if (i % 5 == 0):\n",
    "            if (i >0):\n",
    "                global count\n",
    "                count = count+1\n",
    "                \n",
    "                j = i/5\n",
    "#                 print(j)\n",
    "                if (j%5 ==0):\n",
    "                    global count1\n",
    "                    count1=count1 +1\n",
    "#                     print(\"new\",j)\n",
    "\n",
    "            \n",
    "\n",
    "\n",
    "            \n",
    "trailingzeros(N)\n",
    "print(count+count1)\n"
   ]
  },
  {
   "cell_type": "markdown",
   "metadata": {},
   "source": [
    "### Find and return number of trailing 0s in n factorial without calculating n factorial. Approach 1"
   ]
  },
  {
   "cell_type": "code",
   "execution_count": 37,
   "metadata": {},
   "outputs": [
    {
     "name": "stdout",
     "output_type": "stream",
     "text": [
      "100\n",
      "24\n"
     ]
    }
   ],
   "source": [
    "def findTrailingZeros(n): \t\n",
    "\tcount = 0\t\n",
    "\ti=5\n",
    "\twhile (n/i>=1): \n",
    "\t\tcount += int(n/i) \n",
    "\t\ti *= 5\n",
    "\n",
    "\treturn int(count) \n",
    "\n",
    "n =int(input(\"\"))\n",
    "print(findTrailingZeros(n)) \n",
    "                "
   ]
  }
 ],
 "metadata": {
  "kernelspec": {
   "display_name": "Python 3",
   "language": "python",
   "name": "python3"
  },
  "language_info": {
   "codemirror_mode": {
    "name": "ipython",
    "version": 3
   },
   "file_extension": ".py",
   "mimetype": "text/x-python",
   "name": "python",
   "nbconvert_exporter": "python",
   "pygments_lexer": "ipython3",
   "version": "3.8.5"
  }
 },
 "nbformat": 4,
 "nbformat_minor": 4
}
