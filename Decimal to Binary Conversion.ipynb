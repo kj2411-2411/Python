{
 "cells": [
  {
   "cell_type": "markdown",
   "metadata": {},
   "source": [
    "### Decimal to Binary"
   ]
  },
  {
   "cell_type": "code",
   "execution_count": 82,
   "metadata": {},
   "outputs": [
    {
     "name": "stdout",
     "output_type": "stream",
     "text": [
      "12\n",
      "1100"
     ]
    }
   ],
   "source": [
    "N = int(input())\n",
    "c = 0\n",
    "if N==0:\n",
    "    print(0)\n",
    "    \n",
    "\n",
    "    \n",
    "def dec_to_bin(N):\n",
    "\n",
    "    if (N>=1):\n",
    "        global c\n",
    "        dec_to_bin(N//2)\n",
    "        c = N%2\n",
    "        print(c,end='')\n",
    "\n",
    "            \n",
    "if __name__ == '__main__':\n",
    "    dec_to_bin(N)\n",
    "\n",
    "\n"
   ]
  }
 ],
 "metadata": {
  "kernelspec": {
   "display_name": "Python 3",
   "language": "python",
   "name": "python3"
  },
  "language_info": {
   "codemirror_mode": {
    "name": "ipython",
    "version": 3
   },
   "file_extension": ".py",
   "mimetype": "text/x-python",
   "name": "python",
   "nbconvert_exporter": "python",
   "pygments_lexer": "ipython3",
   "version": "3.8.5"
  }
 },
 "nbformat": 4,
 "nbformat_minor": 4
}
