{
 "cells": [
  {
   "cell_type": "markdown",
   "metadata": {},
   "source": [
    "### Create the Fibonacci numbers series\n"
   ]
  },
  {
   "cell_type": "code",
   "execution_count": 84,
   "metadata": {},
   "outputs": [
    {
     "name": "stdout",
     "output_type": "stream",
     "text": [
      "Enter your number:5\n",
      "0\n",
      "1\n",
      "1\n",
      "2\n",
      "3\n",
      "5\n"
     ]
    }
   ],
   "source": [
    "def fibonacci(N):\n",
    "    a = 0\n",
    "    b = 1\n",
    "    print(a)\n",
    "    print(b)\n",
    "    \n",
    "    if (N == 1):\n",
    "        print(a)\n",
    "    else:\n",
    "        for i in range(2,N+1):\n",
    "            c = a+b\n",
    "            a = b\n",
    "            b = c\n",
    "            print(c)    \n",
    "N = int(input(\"Enter your number:\"))\n",
    "fibonacci(N)\n"
   ]
  },
  {
   "cell_type": "markdown",
   "metadata": {},
   "source": [
    "### Given a number N find the sum of all the even valued terms in the fibonacci sequence less than or equal to N. Try generating only even fibonacci numbers instead of iterating over all Fibonacci numbers.\n"
   ]
  },
  {
   "cell_type": "code",
   "execution_count": 82,
   "metadata": {},
   "outputs": [
    {
     "name": "stdout",
     "output_type": "stream",
     "text": [
      "200\n",
      "Output : 188\n"
     ]
    }
   ],
   "source": [
    "count = 0\n",
    "def fibonacci(N):\n",
    "    a = 0\n",
    "    b = 1\n",
    "#     print(a)\n",
    "#     print(b)\n",
    "    \n",
    "    if (N == 1):\n",
    "        print(a)\n",
    "    else:\n",
    "        for i in range(2,N+1):\n",
    "            c = a+b\n",
    "            a = b\n",
    "            b = c\n",
    "#             print(c)\n",
    "            global count\n",
    "        \n",
    "            if (c%2 == 0):\n",
    "                if c<= N:\n",
    "                    count += c\n",
    "                else:\n",
    "                    break\n",
    "                    \n",
    "#                 \n",
    "\n",
    "                  \n",
    "    \n",
    "    \n",
    "    return count\n",
    "\n",
    "    \n",
    "N = int(input())\n",
    "fibonacci(N)\n",
    "print(count)"
   ]
  },
  {
   "cell_type": "code",
   "execution_count": null,
   "metadata": {},
   "outputs": [],
   "source": []
  }
 ],
 "metadata": {
  "kernelspec": {
   "display_name": "Python 3",
   "language": "python",
   "name": "python3"
  },
  "language_info": {
   "codemirror_mode": {
    "name": "ipython",
    "version": 3
   },
   "file_extension": ".py",
   "mimetype": "text/x-python",
   "name": "python",
   "nbconvert_exporter": "python",
   "pygments_lexer": "ipython3",
   "version": "3.8.5"
  }
 },
 "nbformat": 4,
 "nbformat_minor": 4
}
