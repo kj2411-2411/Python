{
 "cells": [
  {
   "cell_type": "markdown",
   "metadata": {},
   "source": [
    "### Approach 1"
   ]
  },
  {
   "cell_type": "code",
   "execution_count": 6,
   "metadata": {},
   "outputs": [
    {
     "name": "stdout",
     "output_type": "stream",
     "text": [
      "I am Kunal\n",
      "I ma lanuK "
     ]
    }
   ],
   "source": [
    "from sys import stdin\n",
    "\n",
    "string = str(input())\n",
    "def reverseEachWord(string) :\n",
    "    string1 = string.split()\n",
    "    string4 = \"\"\n",
    "    string5 = \"\"\n",
    "    for i in range(0,len(string1)):\n",
    "        string2 = string1[i]\n",
    "        string3= string2[::-1]\n",
    "        string4 = string3.split()\n",
    "        string5 = \"\".join(string4)\n",
    "        output=\"\"\n",
    "        output = print(string5,end=\" \")\n",
    "    \n",
    "    return output\n",
    "\n",
    "reverseEachWord(string)"
   ]
  },
  {
   "cell_type": "markdown",
   "metadata": {},
   "source": [
    "### Approach 2"
   ]
  },
  {
   "cell_type": "code",
   "execution_count": 7,
   "metadata": {},
   "outputs": [
    {
     "name": "stdout",
     "output_type": "stream",
     "text": [
      "I am Kunal\n",
      "I ma lanuK\n"
     ]
    }
   ],
   "source": [
    "def reverseEachWord(string) :\n",
    "    \n",
    "    string1 = string.split(' ')\n",
    "    A = [string2[::-1] for string2 in string1]\n",
    "    B = \" \".join(A)\n",
    "    return B\n",
    "string = input()\n",
    "print(reverseEachWord(string))"
   ]
  },
  {
   "cell_type": "code",
   "execution_count": null,
   "metadata": {},
   "outputs": [],
   "source": []
  }
 ],
 "metadata": {
  "kernelspec": {
   "display_name": "Python 3",
   "language": "python",
   "name": "python3"
  },
  "language_info": {
   "codemirror_mode": {
    "name": "ipython",
    "version": 3
   },
   "file_extension": ".py",
   "mimetype": "text/x-python",
   "name": "python",
   "nbconvert_exporter": "python",
   "pygments_lexer": "ipython3",
   "version": "3.8.5"
  }
 },
 "nbformat": 4,
 "nbformat_minor": 4
}
